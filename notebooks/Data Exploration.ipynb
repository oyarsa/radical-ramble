{
 "cells": [
  {
   "cell_type": "code",
   "execution_count": 2,
   "metadata": {},
   "outputs": [
    {
     "data": {
      "text/plain": [
       "'/home/italo/dev/ML/Incubator/incubator/notebooks'"
      ]
     },
     "execution_count": 2,
     "metadata": {},
     "output_type": "execute_result"
    }
   ],
   "source": [
    "%pwd"
   ]
  },
  {
   "cell_type": "code",
   "execution_count": 44,
   "metadata": {},
   "outputs": [],
   "source": [
    "import pandas as pd\n",
    "import numpy as np\n",
    "from pathlib import Path"
   ]
  },
  {
   "cell_type": "code",
   "execution_count": 45,
   "metadata": {},
   "outputs": [],
   "source": [
    "DATA_PATH = Path('../data')\n",
    "DEV_PATH = DATA_PATH / 'dev'\n",
    "\n",
    "dev = pd.read_csv(DEV_PATH / 'metadata.csv')"
   ]
  },
  {
   "cell_type": "code",
   "execution_count": 46,
   "metadata": {
    "scrolled": false
   },
   "outputs": [
    {
     "data": {
      "text/plain": [
       "neutral     0.423805\n",
       "negative    0.366096\n",
       "positive    0.210099\n",
       "Name: Sentiment, dtype: float64"
      ]
     },
     "execution_count": 46,
     "metadata": {},
     "output_type": "execute_result"
    }
   ],
   "source": [
    "dev.Sentiment.value_counts(normalize=True)"
   ]
  },
  {
   "cell_type": "code",
   "execution_count": 47,
   "metadata": {},
   "outputs": [
    {
     "data": {
      "text/plain": [
       "neutral     0.423805\n",
       "joy         0.146979\n",
       "anger       0.137962\n",
       "surprise    0.135257\n",
       "sadness     0.100090\n",
       "fear        0.036069\n",
       "disgust     0.019838\n",
       "Name: Emotion, dtype: float64"
      ]
     },
     "execution_count": 47,
     "metadata": {},
     "output_type": "execute_result"
    }
   ],
   "source": [
    "dev.Emotion.value_counts(normalize=True)"
   ]
  },
  {
   "cell_type": "code",
   "execution_count": 48,
   "metadata": {},
   "outputs": [
    {
     "data": {
      "text/html": [
       "<div>\n",
       "<style scoped>\n",
       "    .dataframe tbody tr th:only-of-type {\n",
       "        vertical-align: middle;\n",
       "    }\n",
       "\n",
       "    .dataframe tbody tr th {\n",
       "        vertical-align: top;\n",
       "    }\n",
       "\n",
       "    .dataframe thead th {\n",
       "        text-align: right;\n",
       "    }\n",
       "</style>\n",
       "<table border=\"1\" class=\"dataframe\">\n",
       "  <thead>\n",
       "    <tr style=\"text-align: right;\">\n",
       "      <th></th>\n",
       "      <th>Sr No.</th>\n",
       "      <th>Utterance</th>\n",
       "      <th>Speaker</th>\n",
       "      <th>Emotion</th>\n",
       "      <th>Sentiment</th>\n",
       "      <th>Dialogue_ID</th>\n",
       "      <th>Utterance_ID</th>\n",
       "      <th>Season</th>\n",
       "      <th>Episode</th>\n",
       "      <th>StartTime</th>\n",
       "      <th>EndTime</th>\n",
       "    </tr>\n",
       "  </thead>\n",
       "  <tbody>\n",
       "    <tr>\n",
       "      <th>0</th>\n",
       "      <td>1</td>\n",
       "      <td>Oh my God, hes lost it. Hes totally lost it.</td>\n",
       "      <td>Phoebe</td>\n",
       "      <td>sadness</td>\n",
       "      <td>negative</td>\n",
       "      <td>0</td>\n",
       "      <td>0</td>\n",
       "      <td>4</td>\n",
       "      <td>7</td>\n",
       "      <td>00:20:57,256</td>\n",
       "      <td>00:21:00,049</td>\n",
       "    </tr>\n",
       "    <tr>\n",
       "      <th>1</th>\n",
       "      <td>2</td>\n",
       "      <td>What?</td>\n",
       "      <td>Monica</td>\n",
       "      <td>surprise</td>\n",
       "      <td>negative</td>\n",
       "      <td>0</td>\n",
       "      <td>1</td>\n",
       "      <td>4</td>\n",
       "      <td>7</td>\n",
       "      <td>00:21:01,927</td>\n",
       "      <td>00:21:03,261</td>\n",
       "    </tr>\n",
       "    <tr>\n",
       "      <th>2</th>\n",
       "      <td>3</td>\n",
       "      <td>Or! Or, we could go to the bank, close our acc...</td>\n",
       "      <td>Ross</td>\n",
       "      <td>neutral</td>\n",
       "      <td>neutral</td>\n",
       "      <td>1</td>\n",
       "      <td>0</td>\n",
       "      <td>4</td>\n",
       "      <td>4</td>\n",
       "      <td>00:12:24,660</td>\n",
       "      <td>00:12:30,915</td>\n",
       "    </tr>\n",
       "    <tr>\n",
       "      <th>3</th>\n",
       "      <td>4</td>\n",
       "      <td>Youre a genius!</td>\n",
       "      <td>Chandler</td>\n",
       "      <td>joy</td>\n",
       "      <td>positive</td>\n",
       "      <td>1</td>\n",
       "      <td>1</td>\n",
       "      <td>4</td>\n",
       "      <td>4</td>\n",
       "      <td>00:12:32,334</td>\n",
       "      <td>00:12:33,960</td>\n",
       "    </tr>\n",
       "    <tr>\n",
       "      <th>4</th>\n",
       "      <td>5</td>\n",
       "      <td>Aww, man, now we wont be bank buddies!</td>\n",
       "      <td>Joey</td>\n",
       "      <td>sadness</td>\n",
       "      <td>negative</td>\n",
       "      <td>1</td>\n",
       "      <td>2</td>\n",
       "      <td>4</td>\n",
       "      <td>4</td>\n",
       "      <td>00:12:34,211</td>\n",
       "      <td>00:12:37,505</td>\n",
       "    </tr>\n",
       "  </tbody>\n",
       "</table>\n",
       "</div>"
      ],
      "text/plain": [
       "   Sr No.                                          Utterance   Speaker  \\\n",
       "0       1     Oh my God, hes lost it. Hes totally lost it.    Phoebe   \n",
       "1       2                                              What?    Monica   \n",
       "2       3  Or! Or, we could go to the bank, close our acc...      Ross   \n",
       "3       4                                   Youre a genius!  Chandler   \n",
       "4       5            Aww, man, now we wont be bank buddies!      Joey   \n",
       "\n",
       "    Emotion Sentiment  Dialogue_ID  Utterance_ID  Season  Episode  \\\n",
       "0   sadness  negative            0             0       4        7   \n",
       "1  surprise  negative            0             1       4        7   \n",
       "2   neutral   neutral            1             0       4        4   \n",
       "3       joy  positive            1             1       4        4   \n",
       "4   sadness  negative            1             2       4        4   \n",
       "\n",
       "      StartTime       EndTime  \n",
       "0  00:20:57,256  00:21:00,049  \n",
       "1  00:21:01,927  00:21:03,261  \n",
       "2  00:12:24,660  00:12:30,915  \n",
       "3  00:12:32,334  00:12:33,960  \n",
       "4  00:12:34,211  00:12:37,505  "
      ]
     },
     "execution_count": 48,
     "metadata": {},
     "output_type": "execute_result"
    }
   ],
   "source": [
    "dev.head()"
   ]
  },
  {
   "cell_type": "code",
   "execution_count": 49,
   "metadata": {},
   "outputs": [],
   "source": [
    "# Replace the Unicode characters with their appropriate replacements\n",
    "#dev['Utterance'] = dev.Utterance.apply(lambda s: s.replace('\\x92', \"'\"))\n",
    "#dev['Utterance'] = dev.Utterance.apply(lambda s: s.replace('\\x85', \". \"))\n",
    "#dev['Utterance'] = dev.Utterance.apply(lambda s: s.replace('\\x97', \" \"))\n",
    "#dev['Utterance'] = dev.Utterance.apply(lambda s: s.replace('\\x91', \"\"))\n",
    "#dev['Utterance'] = dev.Utterance.apply(lambda s: s.replace('\\x93', \"\"))\n",
    "#dev['Utterance'] = dev.Utterance.apply(lambda s: s.replace('\\xa0', \"\"))\n",
    "#dev['Utterance'] = dev.Utterance.apply(lambda s: s.replace('\\x94', \"\"))\n",
    "\n",
    "dev['Utterance'] = (\n",
    "    dev.Utterance.apply(lambda s: s.replace('\\x92', \"'\"))\n",
    "        .apply(lambda s: s.replace('\\x85', \". \"))\n",
    "        .apply(lambda s: s.replace('\\x97', \" \"))\n",
    "        .apply(lambda s: s.replace('\\x91', \"\"))\n",
    "        .apply(lambda s: s.replace('\\x93', \"\"))\n",
    "        .apply(lambda s: s.replace('\\xa0', \"\"))\n",
    "        .apply(lambda s: s.replace('\\x94', \"\"))\n",
    ")\n"
   ]
  },
  {
   "cell_type": "code",
   "execution_count": 53,
   "metadata": {},
   "outputs": [
    {
     "data": {
      "text/plain": [
       "0"
      ]
     },
     "execution_count": 53,
     "metadata": {},
     "output_type": "execute_result"
    }
   ],
   "source": [
    "ss"
   ]
  },
  {
   "cell_type": "code",
   "execution_count": 52,
   "metadata": {},
   "outputs": [
    {
     "data": {
      "text/plain": [
       "0       10\n",
       "1        1\n",
       "2       18\n",
       "3        3\n",
       "4        8\n",
       "        ..\n",
       "1104     1\n",
       "1105    10\n",
       "1106     4\n",
       "1107     8\n",
       "1108     2\n",
       "Name: Utterance, Length: 1109, dtype: int64"
      ]
     },
     "execution_count": 52,
     "metadata": {},
     "output_type": "execute_result"
    }
   ],
   "source": [
    "text_sizes = dev.Utterance.str.split(' ').apply(lambda s: len(s))\n",
    "text_sizes"
   ]
  },
  {
   "cell_type": "code",
   "execution_count": 33,
   "metadata": {},
   "outputs": [
    {
     "data": {
      "text/plain": [
       "count    1109.000000\n",
       "mean        8.028855\n",
       "std         6.098698\n",
       "min         1.000000\n",
       "25%         3.000000\n",
       "50%         7.000000\n",
       "75%        12.000000\n",
       "max        37.000000\n",
       "Name: Utterance, dtype: float64"
      ]
     },
     "execution_count": 33,
     "metadata": {},
     "output_type": "execute_result"
    }
   ],
   "source": [
    "text_sizes.describe()"
   ]
  },
  {
   "cell_type": "code",
   "execution_count": 34,
   "metadata": {
    "scrolled": true
   },
   "outputs": [
    {
     "data": {
      "text/plain": [
       "1     137\n",
       "3      88\n",
       "2      86\n",
       "4      84\n",
       "6      80\n",
       "5      75\n",
       "7      60\n",
       "11     60\n",
       "8      59\n",
       "10     51\n",
       "9      49\n",
       "12     48\n",
       "14     43\n",
       "13     33\n",
       "17     23\n",
       "16     21\n",
       "18     17\n",
       "19     17\n",
       "15     16\n",
       "20     15\n",
       "23     11\n",
       "21     10\n",
       "22     10\n",
       "24      5\n",
       "28      3\n",
       "25      2\n",
       "36      1\n",
       "26      1\n",
       "31      1\n",
       "33      1\n",
       "34      1\n",
       "37      1\n",
       "Name: Utterance, dtype: int64"
      ]
     },
     "execution_count": 34,
     "metadata": {},
     "output_type": "execute_result"
    }
   ],
   "source": [
    "text_sizes.value_counts()"
   ]
  },
  {
   "cell_type": "code",
   "execution_count": 35,
   "metadata": {},
   "outputs": [
    {
     "data": {
      "text/plain": [
       "<matplotlib.axes._subplots.AxesSubplot at 0x7f4431f9ffa0>"
      ]
     },
     "execution_count": 35,
     "metadata": {},
     "output_type": "execute_result"
    },
    {
     "data": {
      "image/png": "[encoded data removed]",
      "text/plain": [
       "<Figure size 432x288 with 1 Axes>"
      ]
     },
     "metadata": {
      "needs_background": "light"
     },
     "output_type": "display_data"
    }
   ],
   "source": [
    "text_sizes.hist()"
   ]
  },
  {
   "cell_type": "code",
   "execution_count": null,
   "metadata": {},
   "outputs": [],
   "source": [
    "138/len(text_sizes)"
   ]
  },
  {
   "cell_type": "code",
   "execution_count": 36,
   "metadata": {},
   "outputs": [],
   "source": [
    "from spacy.lang.en import English\n",
    "nlp = English()\n",
    "# Create a Tokenizer with the default settings for English\n",
    "# including punctuation rules and exceptions\n",
    "tokeniser = nlp.Defaults.create_tokenizer(nlp)"
   ]
  },
  {
   "cell_type": "code",
   "execution_count": 37,
   "metadata": {},
   "outputs": [],
   "source": [
    "dev['Tokenised_Utterance'] = dev.Utterance.apply(lambda s: tokeniser(s))\n",
    "dev['Utterance_NTokens'] = dev.Tokenised_Utterance.apply(len)"
   ]
  },
  {
   "cell_type": "code",
   "execution_count": 38,
   "metadata": {},
   "outputs": [
    {
     "data": {
      "text/plain": [
       "<matplotlib.axes._subplots.AxesSubplot at 0x7f4425d9f970>"
      ]
     },
     "execution_count": 38,
     "metadata": {},
     "output_type": "execute_result"
    },
    {
     "data": {
      "image/png": "[encoded data removed]",
      "text/plain": [
       "<Figure size 432x288 with 1 Axes>"
      ]
     },
     "metadata": {
      "needs_background": "light"
     },
     "output_type": "display_data"
    }
   ],
   "source": [
    "dev.Utterance_NTokens.hist()"
   ]
  },
  {
   "cell_type": "code",
   "execution_count": 39,
   "metadata": {},
   "outputs": [
    {
     "data": {
      "text/html": [
       "<div>\n",
       "<style scoped>\n",
       "    .dataframe tbody tr th:only-of-type {\n",
       "        vertical-align: middle;\n",
       "    }\n",
       "\n",
       "    .dataframe tbody tr th {\n",
       "        vertical-align: top;\n",
       "    }\n",
       "\n",
       "    .dataframe thead th {\n",
       "        text-align: right;\n",
       "    }\n",
       "</style>\n",
       "<table border=\"1\" class=\"dataframe\">\n",
       "  <thead>\n",
       "    <tr style=\"text-align: right;\">\n",
       "      <th></th>\n",
       "      <th>Utterance</th>\n",
       "      <th>Tokenised_Utterance</th>\n",
       "    </tr>\n",
       "  </thead>\n",
       "  <tbody>\n",
       "    <tr>\n",
       "      <th>1</th>\n",
       "      <td>What?</td>\n",
       "      <td>(What, ?)</td>\n",
       "    </tr>\n",
       "    <tr>\n",
       "      <th>6</th>\n",
       "      <td>Hey.</td>\n",
       "      <td>(Hey, .)</td>\n",
       "    </tr>\n",
       "    <tr>\n",
       "      <th>7</th>\n",
       "      <td>Hey!</td>\n",
       "      <td>(Hey, !)</td>\n",
       "    </tr>\n",
       "    <tr>\n",
       "      <th>22</th>\n",
       "      <td>Yeah!</td>\n",
       "      <td>(Yeah, !)</td>\n",
       "    </tr>\n",
       "    <tr>\n",
       "      <th>43</th>\n",
       "      <td>What?</td>\n",
       "      <td>(What, ?)</td>\n",
       "    </tr>\n",
       "    <tr>\n",
       "      <th>...</th>\n",
       "      <td>...</td>\n",
       "      <td>...</td>\n",
       "    </tr>\n",
       "    <tr>\n",
       "      <th>1078</th>\n",
       "      <td>Yeah.</td>\n",
       "      <td>(Yeah, .)</td>\n",
       "    </tr>\n",
       "    <tr>\n",
       "      <th>1088</th>\n",
       "      <td>Huh?</td>\n",
       "      <td>(Huh, ?)</td>\n",
       "    </tr>\n",
       "    <tr>\n",
       "      <th>1096</th>\n",
       "      <td>But I</td>\n",
       "      <td>(But, I)</td>\n",
       "    </tr>\n",
       "    <tr>\n",
       "      <th>1100</th>\n",
       "      <td>And it</td>\n",
       "      <td>(And, it)</td>\n",
       "    </tr>\n",
       "    <tr>\n",
       "      <th>1104</th>\n",
       "      <td>No.</td>\n",
       "      <td>(No, .)</td>\n",
       "    </tr>\n",
       "  </tbody>\n",
       "</table>\n",
       "<p>110 rows × 2 columns</p>\n",
       "</div>"
      ],
      "text/plain": [
       "     Utterance Tokenised_Utterance\n",
       "1        What?           (What, ?)\n",
       "6         Hey.            (Hey, .)\n",
       "7         Hey!            (Hey, !)\n",
       "22       Yeah!           (Yeah, !)\n",
       "43       What?           (What, ?)\n",
       "...        ...                 ...\n",
       "1078     Yeah.           (Yeah, .)\n",
       "1088      Huh?            (Huh, ?)\n",
       "1096     But I            (But, I)\n",
       "1100    And it           (And, it)\n",
       "1104       No.             (No, .)\n",
       "\n",
       "[110 rows x 2 columns]"
      ]
     },
     "execution_count": 39,
     "metadata": {},
     "output_type": "execute_result"
    }
   ],
   "source": [
    "dev.loc[dev.Utterance_NTokens == 2, ['Utterance', 'Tokenised_Utterance']]"
   ]
  },
  {
   "cell_type": "code",
   "execution_count": 40,
   "metadata": {},
   "outputs": [
    {
     "data": {
      "text/plain": [
       "count    1109.000000\n",
       "mean       10.929666\n",
       "std         7.481536\n",
       "min         1.000000\n",
       "25%         5.000000\n",
       "50%         9.000000\n",
       "75%        16.000000\n",
       "max        49.000000\n",
       "Name: Utterance_NTokens, dtype: float64"
      ]
     },
     "execution_count": 40,
     "metadata": {},
     "output_type": "execute_result"
    }
   ],
   "source": [
    "dev.Utterance_NTokens.describe()"
   ]
  },
  {
   "cell_type": "code",
   "execution_count": 41,
   "metadata": {},
   "outputs": [
    {
     "data": {
      "text/plain": [
       "2     0.099188\n",
       "5     0.071235\n",
       "6     0.062218\n",
       "4     0.057710\n",
       "9     0.055906\n",
       "3     0.055005\n",
       "7     0.055005\n",
       "8     0.050496\n",
       "13    0.045987\n",
       "11    0.043282\n",
       "10    0.042381\n",
       "15    0.039675\n",
       "16    0.033363\n",
       "14    0.031560\n",
       "12    0.031560\n",
       "17    0.030658\n",
       "18    0.025248\n",
       "19    0.021641\n",
       "23    0.018936\n",
       "20    0.018034\n",
       "21    0.017133\n",
       "22    0.017133\n",
       "25    0.015329\n",
       "27    0.011722\n",
       "26    0.009919\n",
       "24    0.009017\n",
       "1     0.007214\n",
       "29    0.005410\n",
       "28    0.003607\n",
       "33    0.003607\n",
       "30    0.002705\n",
       "31    0.002705\n",
       "44    0.000902\n",
       "36    0.000902\n",
       "38    0.000902\n",
       "40    0.000902\n",
       "41    0.000902\n",
       "49    0.000902\n",
       "Name: Utterance_NTokens, dtype: float64"
      ]
     },
     "execution_count": 41,
     "metadata": {},
     "output_type": "execute_result"
    }
   ],
   "source": [
    "dev.Utterance_NTokens.value_counts(normalize=True)"
   ]
  },
  {
   "cell_type": "code",
   "execution_count": 42,
   "metadata": {
    "scrolled": true
   },
   "outputs": [
    {
     "data": {
      "text/plain": [
       "2     110\n",
       "5      79\n",
       "6      69\n",
       "4      64\n",
       "9      62\n",
       "3      61\n",
       "7      61\n",
       "8      56\n",
       "13     51\n",
       "11     48\n",
       "10     47\n",
       "15     44\n",
       "16     37\n",
       "14     35\n",
       "12     35\n",
       "17     34\n",
       "18     28\n",
       "19     24\n",
       "23     21\n",
       "20     20\n",
       "21     19\n",
       "22     19\n",
       "25     17\n",
       "27     13\n",
       "26     11\n",
       "24     10\n",
       "1       8\n",
       "29      6\n",
       "28      4\n",
       "33      4\n",
       "30      3\n",
       "31      3\n",
       "44      1\n",
       "36      1\n",
       "38      1\n",
       "40      1\n",
       "41      1\n",
       "49      1\n",
       "Name: Utterance_NTokens, dtype: int64"
      ]
     },
     "execution_count": 42,
     "metadata": {},
     "output_type": "execute_result"
    }
   ],
   "source": [
    "dev.Utterance_NTokens.value_counts()"
   ]
  }
 ],
 "metadata": {
  "kernelspec": {
   "display_name": "Python 3",
   "language": "python",
   "name": "python3"
  },
  "language_info": {
   "codemirror_mode": {
    "name": "ipython",
    "version": 3
   },
   "file_extension": ".py",
   "mimetype": "text/x-python",
   "name": "python",
   "nbconvert_exporter": "python",
   "pygments_lexer": "ipython3",
   "version": "3.8.3"
  }
 },
 "nbformat": 4,
 "nbformat_minor": 4
}
